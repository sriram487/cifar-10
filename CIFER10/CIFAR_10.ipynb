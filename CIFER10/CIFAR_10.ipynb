{
 "cells": [
  {
   "cell_type": "code",
   "execution_count": 1,
   "id": "f076d3ff",
   "metadata": {},
   "outputs": [],
   "source": [
    "import numpy as np # linear algebra\n",
    "import pandas as pd # data processing, CSV file I/O (e.g. pd.read_csv)\n",
    "from sklearn.utils.multiclass import unique_labels\n",
    "\n",
    "import os"
   ]
  },
  {
   "cell_type": "code",
   "execution_count": 2,
   "id": "7e0fb22a",
   "metadata": {},
   "outputs": [],
   "source": [
    "import matplotlib.pyplot as plt\n",
    "import matplotlib.image as mpimg\n",
    "import seaborn as sns\n",
    "import itertools\n",
    "from sklearn.model_selection import train_test_split\n",
    "from sklearn.metrics import confusion_matrix"
   ]
  },
  {
   "cell_type": "code",
   "execution_count": 7,
   "id": "1c28e5e7",
   "metadata": {},
   "outputs": [],
   "source": [
    "from keras import Sequential\n",
    "\n",
    "from tensorflow.keras.applications import ResNet50\n",
    "\n",
    "from keras.preprocessing.image import ImageDataGenerator\n",
    "\n",
    "from tensorflow.keras.optimizers import SGD,Adam\n",
    "from keras.callbacks import ReduceLROnPlateau\n",
    "\n",
    "\n",
    "from keras.layers import Flatten,Dense,BatchNormalization,Activation,Dropout\n",
    "from tensorflow.keras.utils import to_categorical"
   ]
  },
  {
   "cell_type": "code",
   "execution_count": 8,
   "id": "b089125e",
   "metadata": {},
   "outputs": [],
   "source": [
    "from keras.datasets import cifar10"
   ]
  },
  {
   "cell_type": "code",
   "execution_count": null,
   "id": "57370c24",
   "metadata": {},
   "outputs": [],
   "source": [
    "(x_train,y_train),(x_test,y_test)=cifar10.load_data()"
   ]
  },
  {
   "cell_type": "code",
   "execution_count": null,
   "id": "1be097ea",
   "metadata": {},
   "outputs": [],
   "source": [
    "x_train,x_val,y_train,y_val=train_test_split(x_train,y_train,test_size=.3)"
   ]
  },
  {
   "cell_type": "code",
   "execution_count": null,
   "id": "441ee7ef",
   "metadata": {},
   "outputs": [],
   "source": [
    "print((x_train.shape,y_train.shape))\n",
    "print((x_val.shape,y_val.shape))\n",
    "print((x_test.shape,y_test.shape))"
   ]
  },
  {
   "cell_type": "code",
   "execution_count": null,
   "id": "03addead",
   "metadata": {},
   "outputs": [],
   "source": [
    "y_train=to_categorical(y_train)\n",
    "y_val=to_categorical(y_val)\n",
    "y_test=to_categorical(y_test)"
   ]
  },
  {
   "cell_type": "code",
   "execution_count": null,
   "id": "707a4d9a",
   "metadata": {},
   "outputs": [],
   "source": [
    "print((x_train.shape,y_train.shape))\n",
    "print((x_val.shape,y_val.shape))\n",
    "print((x_test.shape,y_test.shape))"
   ]
  },
  {
   "cell_type": "code",
   "execution_count": null,
   "id": "885d7763",
   "metadata": {},
   "outputs": [],
   "source": [
    "train_generator = ImageDataGenerator(\n",
    "                                    rotation_range=2, \n",
    "                                    horizontal_flip=True,\n",
    "                                    zoom_range=.1 )\n",
    "\n",
    "val_generator = ImageDataGenerator(\n",
    "                                    rotation_range=2, \n",
    "                                    horizontal_flip=True,\n",
    "                                    zoom_range=.1)\n",
    "\n",
    "test_generator = ImageDataGenerator(\n",
    "                                    rotation_range=2, \n",
    "                                    horizontal_flip= True,\n",
    "                                    zoom_range=.1) "
   ]
  },
  {
   "cell_type": "code",
   "execution_count": null,
   "id": "395089f8",
   "metadata": {},
   "outputs": [],
   "source": [
    "train_generator.fit(x_train)\n",
    "val_generator.fit(x_val)\n",
    "test_generator.fit(x_test)"
   ]
  },
  {
   "cell_type": "code",
   "execution_count": null,
   "id": "098dbc0d",
   "metadata": {},
   "outputs": [],
   "source": [
    "lrr= ReduceLROnPlateau(\n",
    "                       monitor='val_acc', \n",
    "                       factor=.01, \n",
    "                       patience=3,\n",
    "                       min_lr=1e-5)"
   ]
  },
  {
   "cell_type": "code",
   "execution_count": null,
   "id": "a96135c1",
   "metadata": {},
   "outputs": [],
   "source": [
    "base_model_2 = ResNet50(include_top=False,weights='imagenet',input_shape=(32,32,3),classes=y_train.shape[1])"
   ]
  },
  {
   "cell_type": "code",
   "execution_count": null,
   "id": "58cd3a64",
   "metadata": {},
   "outputs": [],
   "source": [
    "model_2= Sequential()\n",
    "model_2.add(base_model_2) \n",
    "model_2.add(Flatten())"
   ]
  },
  {
   "cell_type": "code",
   "execution_count": null,
   "id": "055cb7a1",
   "metadata": {},
   "outputs": [],
   "source": [
    "model_2.add(Dense(4000,activation=('relu'),input_dim=512))\n",
    "model_2.add(Dense(2000,activation=('relu'))) \n",
    "model_2.add(Dropout(.4))\n",
    "model_2.add(Dense(1000,activation=('relu'))) \n",
    "model_2.add(Dropout(.3))\n",
    "model_2.add(Dense(500,activation=('relu')))\n",
    "model_2.add(Dropout(.2))\n",
    "model_2.add(Dense(10,activation=('softmax'))) "
   ]
  },
  {
   "cell_type": "code",
   "execution_count": null,
   "id": "5f8296a7",
   "metadata": {},
   "outputs": [],
   "source": [
    "model_2.summary()\n"
   ]
  },
  {
   "cell_type": "code",
   "execution_count": null,
   "id": "c0665678",
   "metadata": {},
   "outputs": [],
   "source": [
    "model_2.compile(optimizer=adam,loss='categorical_crossentropy',metrics=['accuracy'])\n"
   ]
  },
  {
   "cell_type": "code",
   "execution_count": null,
   "id": "07e29b90",
   "metadata": {},
   "outputs": [],
   "source": [
    "model_2.fit_generator(train_generator.flow(x_train,y_train,batch_size=batch_size),\n",
    "                     epochs=100,steps_per_epoch=x_train.shape[0]//batch_size,\n",
    "                     validation_data=val_generator.flow(x_val,y_val,batch_size=batch_size),validation_steps=250,\n",
    "                      callbacks=[lrr],verbose=1)"
   ]
  },
  {
   "cell_type": "code",
   "execution_count": null,
   "id": "09f1585d",
   "metadata": {},
   "outputs": [],
   "source": [
    "f,ax=plt.subplots(2,1) #Creates 2 subplots under 1 column\n",
    "\n",
    "#Assign the first subplot to graph training loss and validation loss\n",
    "ax[0].plot(model_2.history.history['loss'],color='b',label='Training Loss')\n",
    "ax[0].plot(model_2.history.history['val_loss'],color='r',label='Validation Loss')\n",
    "\n",
    "#Next lets plot the training accuracy and validation accuracy\n",
    "ax[1].plot(model_2.history.history['acc'],color='b',label='Training  Accuracy')\n",
    "ax[1].plot(model_2.history.history['val_acc'],color='r',label='Validation Accuracy')"
   ]
  },
  {
   "cell_type": "code",
   "execution_count": null,
   "id": "e2a3036f",
   "metadata": {},
   "outputs": [],
   "source": [
    "y_pred_resnet=model_2.predict_classes(x_test)\n",
    "y_true=np.argmax(y_test,axis=1)\n",
    "\n",
    "#Compute the confusion matrix\n",
    "confusion_mtx=confusion_matrix(y_true,y_pred_resnet)"
   ]
  },
  {
   "cell_type": "code",
   "execution_count": null,
   "id": "7c7f576b",
   "metadata": {},
   "outputs": [],
   "source": [
    "plot_confusion_matrix(y_true, y_pred_resnet, classes=class_names,\n",
    "                      title='Confusion matrix, without normalization')"
   ]
  },
  {
   "cell_type": "code",
   "execution_count": 4,
   "id": "219ee84d",
   "metadata": {},
   "outputs": [
    {
     "ename": "NameError",
     "evalue": "name 'plot_confusion_matrix' is not defined",
     "output_type": "error",
     "traceback": [
      "\u001b[1;31m---------------------------------------------------------------------------\u001b[0m",
      "\u001b[1;31mNameError\u001b[0m                                 Traceback (most recent call last)",
      "\u001b[1;32m~\\AppData\\Local\\Temp/ipykernel_17924/551656253.py\u001b[0m in \u001b[0;36m<module>\u001b[1;34m\u001b[0m\n\u001b[1;32m----> 1\u001b[1;33m plot_confusion_matrix(y_true, y_pred_resnet, classes=class_names, normalize=True,\n\u001b[0m\u001b[0;32m      2\u001b[0m                       title='Normalized confusion matrix')\n\u001b[0;32m      3\u001b[0m \u001b[1;31m# plt.show()\u001b[0m\u001b[1;33m\u001b[0m\u001b[1;33m\u001b[0m\u001b[0m\n",
      "\u001b[1;31mNameError\u001b[0m: name 'plot_confusion_matrix' is not defined"
     ]
    }
   ],
   "source": [
    "plot_confusion_matrix(y_true, y_pred_resnet, classes=class_names, normalize=True,\n",
    "                      title='Normalized confusion matrix')\n",
    "# plt.show()"
   ]
  },
  {
   "cell_type": "code",
   "execution_count": null,
   "id": "3a5855be",
   "metadata": {},
   "outputs": [],
   "source": []
  }
 ],
 "metadata": {
  "kernelspec": {
   "display_name": "python-tf",
   "language": "python",
   "name": "python-tf"
  },
  "language_info": {
   "codemirror_mode": {
    "name": "ipython",
    "version": 3
   },
   "file_extension": ".py",
   "mimetype": "text/x-python",
   "name": "python",
   "nbconvert_exporter": "python",
   "pygments_lexer": "ipython3",
   "version": "3.9.7"
  }
 },
 "nbformat": 4,
 "nbformat_minor": 5
}
